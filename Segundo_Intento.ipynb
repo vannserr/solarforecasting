{
  "nbformat": 4,
  "nbformat_minor": 0,
  "metadata": {
    "colab": {
      "name": "Welcome To Colaboratory",
      "provenance": [],
      "collapsed_sections": [],
      "toc_visible": true,
      "include_colab_link": true
    },
    "kernelspec": {
      "display_name": "Python 3",
      "name": "python3"
    }
  },
  "cells": [
    {
      "cell_type": "markdown",
      "metadata": {
        "id": "view-in-github",
        "colab_type": "text"
      },
      "source": [
        "<a href=\"https://colab.research.google.com/github/vannserr/solarforecasting/blob/master/Segundo_Intento.ipynb\" target=\"_parent\"><img src=\"https://colab.research.google.com/assets/colab-badge.svg\" alt=\"Open In Colab\"/></a>"
      ]
    },
    {
      "cell_type": "markdown",
      "metadata": {
        "id": "grGIkI0YqwY6",
        "colab_type": "text"
      },
      "source": [
        "# A short tutorial about Fuzzy Time Series\n",
        "Prof. Msc. Petrônio Cândido L. Silva\n",
        "\n",
        "[pyFTS - Fuzzy Time Series for Python](http://pyfts.github.io/pyFTS/)\n",
        "\n",
        "[MINDS - Machine Intelligence and Data Science Lab  ](http://www.minds.eng.ufmg.br/)\n",
        "\n",
        "\n",
        "\n",
        "<center>\n",
        "<table><tr><td> <a href=\"http://www.minds.eng.ufmg.br/\"><img src=\"https://github.com/petroniocandido/pyFTS/raw/master/img/minds_logo_medium.jpeg\" alt=\"MINDS - Machine Intelligence and Data Science Lab\" width=\"100\"/></a></td> \n",
        "  <td>&nbsp;&nbsp;&nbsp;&nbsp;&nbsp;&nbsp;&nbsp;&nbsp;&nbsp;</td>\n",
        "<td><a href=\"https://pyfts.github.io/pyFTS/\"><img src=\"https://github.com/PYFTS/pyFTS/raw/master/img/logo_medium.png\" alt=\"pyFTS - Fuzzy Time Series for Python\" width=\"100\"/></a></td>\n",
        "</tr>\n",
        "</table>\n",
        "</center>\n"
      ]
    },
    {
      "cell_type": "markdown",
      "metadata": {
        "id": "HX-whU4Sq5Sz",
        "colab_type": "text"
      },
      "source": [
        "## Install pyFTS library"
      ]
    },
    {
      "cell_type": "code",
      "metadata": {
        "id": "t6fjedM0PjvL",
        "colab_type": "code",
        "outputId": "e33f90d2-c0b0-4990-a856-cd7136f5fbca",
        "colab": {
          "base_uri": "https://localhost:8080/",
          "height": 362
        }
      },
      "source": [
        "!pip3 install -U git+https://github.com/PYFTS/pyFTS"
      ],
      "execution_count": 7,
      "outputs": [
        {
          "output_type": "stream",
          "text": [
            "Collecting git+https://github.com/PYFTS/pyFTS\n",
            "  Cloning https://github.com/PYFTS/pyFTS to /tmp/pip-req-build-9qxs9_z1\n",
            "  Running command git clone -q https://github.com/PYFTS/pyFTS /tmp/pip-req-build-9qxs9_z1\n",
            "Building wheels for collected packages: pyFTS\n",
            "  Building wheel for pyFTS (setup.py) ... \u001b[?25l\u001b[?25hdone\n",
            "  Created wheel for pyFTS: filename=pyFTS-1.6-cp36-none-any.whl size=207415 sha256=98dfabf3c2754d6148a2cb0a0b013e67d181956f32ac78dbd84aed86a1872040\n",
            "  Stored in directory: /tmp/pip-ephem-wheel-cache-5s0w0995/wheels/e7/32/a9/230470113df5a73242a5a6d05671cb646db97abf14bbce2644\n",
            "Successfully built pyFTS\n",
            "Installing collected packages: pyFTS\n",
            "  Found existing installation: pyFTS 1.6\n",
            "    Uninstalling pyFTS-1.6:\n",
            "      Successfully uninstalled pyFTS-1.6\n",
            "Successfully installed pyFTS-1.6\n"
          ],
          "name": "stdout"
        },
        {
          "output_type": "display_data",
          "data": {
            "application/vnd.colab-display-data+json": {
              "pip_warning": {
                "packages": [
                  "pyFTS"
                ]
              }
            }
          },
          "metadata": {
            "tags": []
          }
        }
      ]
    },
    {
      "cell_type": "markdown",
      "metadata": {
        "id": "q6Mjr2HOq-ak",
        "colab_type": "text"
      },
      "source": [
        "## Other common imports"
      ]
    },
    {
      "cell_type": "code",
      "metadata": {
        "id": "STYYKCGRPn_-",
        "colab_type": "code",
        "outputId": "ecac983c-223a-41d1-8e8a-5e9b8e61559e",
        "colab": {
          "base_uri": "https://localhost:8080/",
          "height": 35
        }
      },
      "source": [
        "import warnings\n",
        "warnings.filterwarnings('ignore')\n",
        "\n",
        "\n",
        "import matplotlib.pylab as plt\n",
        "\n",
        "%pylab inline"
      ],
      "execution_count": 4,
      "outputs": [
        {
          "output_type": "stream",
          "text": [
            "Populating the interactive namespace from numpy and matplotlib\n"
          ],
          "name": "stdout"
        }
      ]
    },
    {
      "cell_type": "markdown",
      "metadata": {
        "id": "xl5qEc7mrH6k",
        "colab_type": "text"
      },
      "source": [
        "## Data loading"
      ]
    },
    {
      "cell_type": "code",
      "metadata": {
        "id": "qqw5qng2NxaL",
        "colab_type": "code",
        "colab": {}
      },
      "source": [
        ""
      ],
      "execution_count": 0,
      "outputs": []
    },
    {
      "cell_type": "code",
      "metadata": {
        "id": "B5KIImqUPuRw",
        "colab_type": "code",
        "outputId": "de43d1bc-d808-4e37-a6d9-c3768b8b46d4",
        "colab": {
          "base_uri": "https://localhost:8080/",
          "height": 320
        }
      },
      "source": [
        "from pyFTS.data import Enrollments\n",
        "\n",
        "fig, ax = plt.subplots(nrows=1, ncols=1, figsize=[10,5])\n",
        "\n",
        "df = Enrollments.get_dataframe()\n",
        "plot(df['Year'],df['Enrollments'])\n",
        "\n",
        "data = df['Enrollments'].values"
      ],
      "execution_count": 5,
      "outputs": [
        {
          "output_type": "display_data",
          "data": {
            "image/png": "[encoded data removed]",
            "text/plain": [
              "<Figure size 720x360 with 1 Axes>"
            ]
          },
          "metadata": {
            "tags": [],
            "needs_background": "light"
          }
        }
      ]
    }
  ]
}